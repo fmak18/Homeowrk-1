{
  "nbformat": 4,
  "nbformat_minor": 0,
  "metadata": {
    "colab": {
      "provenance": []
    },
    "kernelspec": {
      "name": "python3",
      "display_name": "Python 3"
    },
    "language_info": {
      "name": "python"
    }
  },
  "cells": [
    {
      "cell_type": "code",
      "source": [
        "# 1\n",
        "list = []\n",
        "for item in range(30, 61, 5):\n",
        "    list.append(item)\n",
        "list\n",
        "list.sort(reverse=True)\n",
        "list\n",
        "list.insert(0, 65)\n",
        "list"
      ],
      "metadata": {
        "colab": {
          "base_uri": "https://localhost:8080/"
        },
        "id": "GcxUJ2DXY4Id",
        "outputId": "9f5a154e-f64b-479b-97e6-197f54a8f53e"
      },
      "execution_count": 25,
      "outputs": [
        {
          "output_type": "execute_result",
          "data": {
            "text/plain": [
              "[65, 60, 55, 50, 45, 40, 35, 30]"
            ]
          },
          "metadata": {},
          "execution_count": 25
        }
      ]
    },
    {
      "cell_type": "code",
      "source": [
        "#2\n",
        "list = []\n",
        "for item in range(0, 21):\n",
        "  list.append(item)\n",
        "list\n",
        "del list [0]\n",
        "list\n",
        "len(list)\n",
        "max(list)\n",
        "min(list)\n",
        "print(sum(list))"
      ],
      "metadata": {
        "colab": {
          "base_uri": "https://localhost:8080/"
        },
        "id": "PelDXLr6aopV",
        "outputId": "ce1c77ce-14dd-4ade-dc26-4a69803325d2"
      },
      "execution_count": 49,
      "outputs": [
        {
          "output_type": "stream",
          "name": "stdout",
          "text": [
            "210\n"
          ]
        }
      ]
    },
    {
      "cell_type": "code",
      "source": [
        "# 3\n",
        "weather = {\" sunny\": \" play\", \" rainy\": \" watch TV\", \" cloudy\": \" walk\"}\n",
        "weather\n",
        "for condition, add in weather.items():\n",
        "  print(f'When{condition} let us{add}')\n",
        "\n",
        "\n",
        "\n"
      ],
      "metadata": {
        "colab": {
          "base_uri": "https://localhost:8080/"
        },
        "id": "A-SHtMHWP_tj",
        "outputId": "a9d51e60-524c-4505-ec8d-44ca6f8b46c5"
      },
      "execution_count": 95,
      "outputs": [
        {
          "output_type": "stream",
          "name": "stdout",
          "text": [
            "When sunny let us play\n",
            "When rainy let us watch TV\n",
            "When cloudy let us walk\n"
          ]
        }
      ]
    },
    {
      "cell_type": "code",
      "source": [
        "weather[\" snowy\"] = \" ski\"\n",
        "for condition, add in weather.items():\n",
        "  print(f'When{condition} let us{add}')"
      ],
      "metadata": {
        "colab": {
          "base_uri": "https://localhost:8080/"
        },
        "id": "Bj7AddNMbGHq",
        "outputId": "1c7ec411-7420-4f69-b11b-a5505f633cc5"
      },
      "execution_count": 96,
      "outputs": [
        {
          "output_type": "stream",
          "name": "stdout",
          "text": [
            "When sunny let us play\n",
            "When rainy let us watch TV\n",
            "When cloudy let us walk\n",
            "When snowy let us ski\n"
          ]
        }
      ]
    }
  ]
}